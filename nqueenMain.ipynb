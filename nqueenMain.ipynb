{
 "cells": [
  {
   "cell_type": "code",
   "execution_count": 10,
   "metadata": {},
   "outputs": [],
   "source": [
    "from nqueen import NQueen, get_queensidxs\n",
    "import math\n",
    "import random\n",
    "import time"
   ]
  },
  {
   "cell_type": "code",
   "execution_count": 11,
   "metadata": {},
   "outputs": [],
   "source": [
    "def neighborhood(nqueen): # Retorna a lista de vizinhos, que são os possíveis movimentos para a rainha\n",
    "    nb = []  # Lista para armazenar os vizinhos\n",
    "    queens = get_queensidxs(nqueen.board)  # Obtém as posições das rainhas no tabuleiro\n",
    "    for i in range(nqueen.n):\n",
    "        p = queens[i]  # Obtém a posição atual da rainha\n",
    "        for j in range(nqueen.n):\n",
    "            if j != p:  # Verifica se a coluna é diferente da posição atual da rainha\n",
    "                cq = nqueen.deepcopy()  # Cria uma cópia do estado atual do tabuleiro\n",
    "                cq.moveTo(j, i)  # Move a rainha para a nova coluna\n",
    "                nb.append(cq)  # Adiciona o novo tabuleiro à lista de vizinhos\n",
    "    return nb  # Retorna a lista de vizinhos\n"
   ]
  },
  {
   "cell_type": "code",
   "execution_count": 12,
   "metadata": {},
   "outputs": [],
   "source": [
    "def hillclimbing(nqueen):\n",
    "    while True:\n",
    "        candidates = neighborhood(nqueen)  # Obtém a lista de vizinhos possíveis da configuração atual\n",
    "        betterValue = nqueen.attacks()  # Obtém o número de ataques da configuração atual\n",
    "        betterNeighbor = None  # Variável para armazenar o melhor vizinho encontrado\n",
    "        for candidate in candidates:\n",
    "            v = candidate.attacks()  # Obtém o número de ataques do vizinho atual\n",
    "            if v < betterValue:  # Verifica se o vizinho atual tem menos ataques\n",
    "                betterNeighbor = candidate  # Atualiza o melhor vizinho encontrado\n",
    "                betterValue = v  # Atualiza o número de ataques do melhor vizinho\n",
    "        \n",
    "        if betterNeighbor is None:  # Se não houver um vizinho melhor\n",
    "            return nqueen  # Retorna a configuração atual (ótimo local)\n",
    "        else:\n",
    "            nqueen = betterNeighbor  # Atualiza a configuração atual para o melhor vizinho encontrado\n"
   ]
  },
  {
   "cell_type": "code",
   "execution_count": 13,
   "metadata": {},
   "outputs": [],
   "source": [
    "def hillclimbing_steepest_ascent(nqueen):\n",
    "    while True:\n",
    "        current_attacks = nqueen.attacks()  # Obtem o número de ataques da configuração atual\n",
    "        candidates = neighborhood(nqueen)  # Gera candidatos vizinhos\n",
    "        best_neighbor = None  # Inicializa o melhor vizinho\n",
    "        best_attacks = current_attacks  # Inicializar o número mínimo de ataques\n",
    "        for candidate in candidates:\n",
    "            candidate_attacks = candidate.attacks()  # Calcula o número de ataques do candidato\n",
    "            if candidate_attacks < best_attacks:  # Verificar se o candidato tem menos ataques do que o melhor vizinho atual\n",
    "                best_neighbor = candidate  # Atualiza o melhor vizinho\n",
    "                best_attacks = candidate_attacks  # Atualiza o número mínimo de ataques\n",
    "        # Verificar se não há melhor vizinho ou se o número mínimo de ataques não diminuiu\n",
    "        if best_neighbor is None or best_attacks >= current_attacks:  \n",
    "            return nqueen  # Retornar a configuração atual\n",
    "        else:\n",
    "            nqueen = best_neighbor  # Atualizar a configuração atual com o melhor vizinho\n"
   ]
  },
  {
   "cell_type": "code",
   "execution_count": 14,
   "metadata": {},
   "outputs": [],
   "source": [
    "def hillclimbing_first_choice(nqueen):\n",
    "    while True:\n",
    "        current_attacks = nqueen.attacks()  # Obtem o número de ataques da configuração atual\n",
    "        best_neighbor = None\n",
    "\n",
    "        # Itera pelo número de rainhas no tabuleiro\n",
    "        for _ in range(len(nqueen.board)):\n",
    "            candidate = nqueen.deepcopy()  # Cria uma cópia da configuração atual\n",
    "            candidate.moveTo(random.randint(0, nqueen.n-1), random.randint(0, nqueen.n-1))  # Move uma rainha aleatoriamente\n",
    "            candidate_attacks = candidate.attacks()  # Obtem o número de ataques na configuração candidata\n",
    "\n",
    "            if candidate_attacks < current_attacks:  # Se o número de ataques na configuração candidata for menor\n",
    "                best_neighbor = candidate  # Atualizar o melhor vizinho encontrado\n",
    "                break  # Parar a busca\n",
    "\n",
    "        if best_neighbor is None:  # Se nenhum vizinho melhor foi encontrado\n",
    "            return nqueen  # Retornar a configuração atual\n",
    "        else:\n",
    "            nqueen = best_neighbor  # Atualizar a configuração atual para o melhor vizinho encontrado\n"
   ]
  },
  {
   "cell_type": "code",
   "execution_count": 15,
   "metadata": {},
   "outputs": [],
   "source": [
    "def hillclimbing_random_restarts(nqueen, max_restarts = 25):\n",
    "    best_solution = None  # Inicializa a melhor solução encontrada\n",
    "    for restart in range(max_restarts):\n",
    "        current = nqueen.deepcopy()  # Cria uma cópia do estado atual\n",
    "        current = hillclimbing(current)  # Aplica o algoritmo Hill Climbing no estado atual\n",
    "        if (best_solution is None) or (current.attacks() < best_solution.attacks()):\n",
    "            # Se é a primeira solução ou a solução atual é melhor que a melhor solução anterior\n",
    "            best_solution = current  # Atualiza a melhor solução\n",
    "        if best_solution.attacks() == 0:\n",
    "            break # Se encontrou uma solução ideal, interrompe a execução\n",
    "            \n",
    "    return best_solution\n"
   ]
  },
  {
   "cell_type": "code",
   "execution_count": 16,
   "metadata": {},
   "outputs": [],
   "source": [
    "def simulated_annealing(nqueen, initial_temperature=20, final_temperature=0.1, alpha=0.5):\n",
    "    # Inicialização dos estados e energia atual\n",
    "    current_state = nqueen  # Estado atual\n",
    "    current_energy = current_state.attacks()  # Energia atual\n",
    "    best_state = current_state  # Melhor estado encontrado até o momento\n",
    "    best_energy = current_energy  # Melhor energia encontrada até o momento\n",
    "    \n",
    "    # Configuração inicial da temperatura e limite de iterações\n",
    "    temperature = initial_temperature  # Temperatura inicial\n",
    "    \n",
    "    # Loop principal do simulated annealing\n",
    "    while temperature > final_temperature:\n",
    "        \n",
    "        # Escolha de um vizinho aleatório\n",
    "        neighbor = neighborhood(current_state)[random.randint(0, len(neighborhood(current_state)) - 1)]\n",
    "        neighbor_energy = neighbor.attacks()  # Energia do vizinho escolhido\n",
    "        \n",
    "        # Cálculo da variação de energia\n",
    "        energy_delta = neighbor_energy - current_energy\n",
    "        \n",
    "        # Critério de aceitação do novo estado\n",
    "        # Representa a probabilidade de aceitar um estado pior (com energia mais alta) como uma forma de escapar de mínimos locais\n",
    "        if (energy_delta < 0 or random.random()) < (math.exp(-energy_delta / temperature)):\n",
    "            current_state = neighbor\n",
    "            current_energy = neighbor_energy\n",
    "        \n",
    "        # Atualização do melhor estado encontrado\n",
    "        if current_energy < best_energy:\n",
    "            best_state = current_state\n",
    "            best_energy = current_energy\n",
    "        \n",
    "        # Atualização da temperatura\n",
    "        temperature *= alpha\n",
    "    \n",
    "    return best_state\n"
   ]
  },
  {
   "cell_type": "code",
   "execution_count": 17,
   "metadata": {},
   "outputs": [],
   "source": [
    "def teste(funcao, verbose=False):\n",
    "    tempo = time.time()\n",
    "    print(funcao.__name__)\n",
    "    counter_mean = 0  \n",
    "    success = 0\n",
    "    for i in range(maxit):\n",
    "        counter = 0  \n",
    "        while True:\n",
    "            current = NQueen(8)  \n",
    "            current = funcao(current)  \n",
    "            counter += 1     \n",
    "            if( current.attacks() <= 0):\n",
    "                success += 1\n",
    "                break  \n",
    "        if( i == maxit-1 and verbose):\n",
    "            print(current)         \n",
    "        counter_mean += counter  \n",
    "\n",
    "    counter_mean /= maxit  \n",
    "    print(\"Tentativas: \", counter_mean)   \n",
    "    print(\"Sucessos: \", success)\n",
    "    tempo = time.time() - tempo\n",
    "    print(\"Custo: %.2f segundos (%2.2f minutos)\\n\"%(tempo, tempo/60) )   "
   ]
  },
  {
   "cell_type": "code",
   "execution_count": 18,
   "metadata": {},
   "outputs": [
    {
     "name": "stdout",
     "output_type": "stream",
     "text": [
      "hillclimbing\n",
      "Tentativas:  6.43\n",
      "Sucessos:  100\n",
      "Custo: 43.35 segundos (0.72 minutos)\n",
      "\n",
      "hillclimbing_steepest_ascent\n",
      "Tentativas:  7.06\n",
      "Sucessos:  100\n",
      "Custo: 43.28 segundos (0.72 minutos)\n",
      "\n",
      "hillclimbing_first_choice\n",
      "Tentativas:  371.83\n",
      "Sucessos:  100\n",
      "Custo: 137.65 segundos (2.29 minutos)\n",
      "\n",
      "hillclimbing_random_restarts\n",
      "Tentativas:  5.88\n",
      "Sucessos:  100\n",
      "Custo: 628.93 segundos (10.48 minutos)\n",
      "\n",
      "simulated_annealing\n"
     ]
    },
    {
     "ename": "KeyboardInterrupt",
     "evalue": "",
     "output_type": "error",
     "traceback": [
      "\u001b[1;31m---------------------------------------------------------------------------\u001b[0m",
      "\u001b[1;31mKeyboardInterrupt\u001b[0m                         Traceback (most recent call last)",
      "Cell \u001b[1;32mIn[18], line 6\u001b[0m\n\u001b[0;32m      4\u001b[0m teste(hillclimbing_first_choice)\n\u001b[0;32m      5\u001b[0m teste(hillclimbing_random_restarts)\n\u001b[1;32m----> 6\u001b[0m teste(simulated_annealing)\n",
      "Cell \u001b[1;32mIn[17], line 10\u001b[0m, in \u001b[0;36mteste\u001b[1;34m(funcao, verbose)\u001b[0m\n\u001b[0;32m      8\u001b[0m \u001b[39mwhile\u001b[39;00m \u001b[39mTrue\u001b[39;00m:\n\u001b[0;32m      9\u001b[0m     current \u001b[39m=\u001b[39m NQueen(\u001b[39m8\u001b[39m)  \n\u001b[1;32m---> 10\u001b[0m     current \u001b[39m=\u001b[39m funcao(current)  \n\u001b[0;32m     11\u001b[0m     counter \u001b[39m+\u001b[39m\u001b[39m=\u001b[39m \u001b[39m1\u001b[39m     \n\u001b[0;32m     12\u001b[0m     \u001b[39mif\u001b[39;00m( current\u001b[39m.\u001b[39mattacks() \u001b[39m<\u001b[39m\u001b[39m=\u001b[39m \u001b[39m0\u001b[39m):\n",
      "Cell \u001b[1;32mIn[16], line 15\u001b[0m, in \u001b[0;36msimulated_annealing\u001b[1;34m(nqueen, initial_temperature, final_temperature, alpha)\u001b[0m\n\u001b[0;32m     11\u001b[0m \u001b[39m# Loop principal do simulated annealing\u001b[39;00m\n\u001b[0;32m     12\u001b[0m \u001b[39mwhile\u001b[39;00m temperature \u001b[39m>\u001b[39m final_temperature:\n\u001b[0;32m     13\u001b[0m     \n\u001b[0;32m     14\u001b[0m     \u001b[39m# Escolha de um vizinho aleatório\u001b[39;00m\n\u001b[1;32m---> 15\u001b[0m     neighbor \u001b[39m=\u001b[39m neighborhood(current_state)[random\u001b[39m.\u001b[39mrandint(\u001b[39m0\u001b[39m, \u001b[39mlen\u001b[39m(neighborhood(current_state)) \u001b[39m-\u001b[39m \u001b[39m1\u001b[39m)]\n\u001b[0;32m     16\u001b[0m     neighbor_energy \u001b[39m=\u001b[39m neighbor\u001b[39m.\u001b[39mattacks()  \u001b[39m# Energia do vizinho escolhido\u001b[39;00m\n\u001b[0;32m     18\u001b[0m     \u001b[39m# Cálculo da variação de energia\u001b[39;00m\n",
      "Cell \u001b[1;32mIn[11], line 8\u001b[0m, in \u001b[0;36mneighborhood\u001b[1;34m(nqueen)\u001b[0m\n\u001b[0;32m      6\u001b[0m \u001b[39mfor\u001b[39;00m j \u001b[39min\u001b[39;00m \u001b[39mrange\u001b[39m(nqueen\u001b[39m.\u001b[39mn):\n\u001b[0;32m      7\u001b[0m     \u001b[39mif\u001b[39;00m j \u001b[39m!=\u001b[39m p:  \u001b[39m# Verifica se a coluna é diferente da posição atual da rainha\u001b[39;00m\n\u001b[1;32m----> 8\u001b[0m         cq \u001b[39m=\u001b[39m nqueen\u001b[39m.\u001b[39;49mdeepcopy()  \u001b[39m# Cria uma cópia do estado atual do tabuleiro\u001b[39;00m\n\u001b[0;32m      9\u001b[0m         cq\u001b[39m.\u001b[39mmoveTo(j, i)  \u001b[39m# Move a rainha para a nova coluna\u001b[39;00m\n\u001b[0;32m     10\u001b[0m         nb\u001b[39m.\u001b[39mappend(cq)  \u001b[39m# Adiciona o novo tabuleiro à lista de vizinhos\u001b[39;00m\n",
      "File \u001b[1;32mg:\\Meu Drive\\UVA\\2023.1\\InteligenciaArtificial\\2AP\\Seventy-Tarefa\\VF\\nqueen.py:38\u001b[0m, in \u001b[0;36mNQueen.deepcopy\u001b[1;34m(self)\u001b[0m\n\u001b[0;32m     37\u001b[0m \u001b[39mdef\u001b[39;00m \u001b[39mdeepcopy\u001b[39m(\u001b[39mself\u001b[39m):\n\u001b[1;32m---> 38\u001b[0m     \u001b[39mreturn\u001b[39;00m copy\u001b[39m.\u001b[39;49mdeepcopy(\u001b[39mself\u001b[39;49m)\n",
      "File \u001b[1;32mC:\\Program Files\\WindowsApps\\PythonSoftwareFoundation.Python.3.10_3.10.3056.0_x64__qbz5n2kfra8p0\\lib\\copy.py:172\u001b[0m, in \u001b[0;36mdeepcopy\u001b[1;34m(x, memo, _nil)\u001b[0m\n\u001b[0;32m    170\u001b[0m                 y \u001b[39m=\u001b[39m x\n\u001b[0;32m    171\u001b[0m             \u001b[39melse\u001b[39;00m:\n\u001b[1;32m--> 172\u001b[0m                 y \u001b[39m=\u001b[39m _reconstruct(x, memo, \u001b[39m*\u001b[39;49mrv)\n\u001b[0;32m    174\u001b[0m \u001b[39m# If is its own copy, don't memoize.\u001b[39;00m\n\u001b[0;32m    175\u001b[0m \u001b[39mif\u001b[39;00m y \u001b[39mis\u001b[39;00m \u001b[39mnot\u001b[39;00m x:\n",
      "File \u001b[1;32mC:\\Program Files\\WindowsApps\\PythonSoftwareFoundation.Python.3.10_3.10.3056.0_x64__qbz5n2kfra8p0\\lib\\copy.py:271\u001b[0m, in \u001b[0;36m_reconstruct\u001b[1;34m(x, memo, func, args, state, listiter, dictiter, deepcopy)\u001b[0m\n\u001b[0;32m    269\u001b[0m \u001b[39mif\u001b[39;00m state \u001b[39mis\u001b[39;00m \u001b[39mnot\u001b[39;00m \u001b[39mNone\u001b[39;00m:\n\u001b[0;32m    270\u001b[0m     \u001b[39mif\u001b[39;00m deep:\n\u001b[1;32m--> 271\u001b[0m         state \u001b[39m=\u001b[39m deepcopy(state, memo)\n\u001b[0;32m    272\u001b[0m     \u001b[39mif\u001b[39;00m \u001b[39mhasattr\u001b[39m(y, \u001b[39m'\u001b[39m\u001b[39m__setstate__\u001b[39m\u001b[39m'\u001b[39m):\n\u001b[0;32m    273\u001b[0m         y\u001b[39m.\u001b[39m__setstate__(state)\n",
      "File \u001b[1;32mC:\\Program Files\\WindowsApps\\PythonSoftwareFoundation.Python.3.10_3.10.3056.0_x64__qbz5n2kfra8p0\\lib\\copy.py:146\u001b[0m, in \u001b[0;36mdeepcopy\u001b[1;34m(x, memo, _nil)\u001b[0m\n\u001b[0;32m    144\u001b[0m copier \u001b[39m=\u001b[39m _deepcopy_dispatch\u001b[39m.\u001b[39mget(\u001b[39mcls\u001b[39m)\n\u001b[0;32m    145\u001b[0m \u001b[39mif\u001b[39;00m copier \u001b[39mis\u001b[39;00m \u001b[39mnot\u001b[39;00m \u001b[39mNone\u001b[39;00m:\n\u001b[1;32m--> 146\u001b[0m     y \u001b[39m=\u001b[39m copier(x, memo)\n\u001b[0;32m    147\u001b[0m \u001b[39melse\u001b[39;00m:\n\u001b[0;32m    148\u001b[0m     \u001b[39mif\u001b[39;00m \u001b[39missubclass\u001b[39m(\u001b[39mcls\u001b[39m, \u001b[39mtype\u001b[39m):\n",
      "File \u001b[1;32mC:\\Program Files\\WindowsApps\\PythonSoftwareFoundation.Python.3.10_3.10.3056.0_x64__qbz5n2kfra8p0\\lib\\copy.py:231\u001b[0m, in \u001b[0;36m_deepcopy_dict\u001b[1;34m(x, memo, deepcopy)\u001b[0m\n\u001b[0;32m    229\u001b[0m memo[\u001b[39mid\u001b[39m(x)] \u001b[39m=\u001b[39m y\n\u001b[0;32m    230\u001b[0m \u001b[39mfor\u001b[39;00m key, value \u001b[39min\u001b[39;00m x\u001b[39m.\u001b[39mitems():\n\u001b[1;32m--> 231\u001b[0m     y[deepcopy(key, memo)] \u001b[39m=\u001b[39m deepcopy(value, memo)\n\u001b[0;32m    232\u001b[0m \u001b[39mreturn\u001b[39;00m y\n",
      "File \u001b[1;32mC:\\Program Files\\WindowsApps\\PythonSoftwareFoundation.Python.3.10_3.10.3056.0_x64__qbz5n2kfra8p0\\lib\\copy.py:146\u001b[0m, in \u001b[0;36mdeepcopy\u001b[1;34m(x, memo, _nil)\u001b[0m\n\u001b[0;32m    144\u001b[0m copier \u001b[39m=\u001b[39m _deepcopy_dispatch\u001b[39m.\u001b[39mget(\u001b[39mcls\u001b[39m)\n\u001b[0;32m    145\u001b[0m \u001b[39mif\u001b[39;00m copier \u001b[39mis\u001b[39;00m \u001b[39mnot\u001b[39;00m \u001b[39mNone\u001b[39;00m:\n\u001b[1;32m--> 146\u001b[0m     y \u001b[39m=\u001b[39m copier(x, memo)\n\u001b[0;32m    147\u001b[0m \u001b[39melse\u001b[39;00m:\n\u001b[0;32m    148\u001b[0m     \u001b[39mif\u001b[39;00m \u001b[39missubclass\u001b[39m(\u001b[39mcls\u001b[39m, \u001b[39mtype\u001b[39m):\n",
      "File \u001b[1;32mC:\\Program Files\\WindowsApps\\PythonSoftwareFoundation.Python.3.10_3.10.3056.0_x64__qbz5n2kfra8p0\\lib\\copy.py:206\u001b[0m, in \u001b[0;36m_deepcopy_list\u001b[1;34m(x, memo, deepcopy)\u001b[0m\n\u001b[0;32m    204\u001b[0m append \u001b[39m=\u001b[39m y\u001b[39m.\u001b[39mappend\n\u001b[0;32m    205\u001b[0m \u001b[39mfor\u001b[39;00m a \u001b[39min\u001b[39;00m x:\n\u001b[1;32m--> 206\u001b[0m     append(deepcopy(a, memo))\n\u001b[0;32m    207\u001b[0m \u001b[39mreturn\u001b[39;00m y\n",
      "File \u001b[1;32mC:\\Program Files\\WindowsApps\\PythonSoftwareFoundation.Python.3.10_3.10.3056.0_x64__qbz5n2kfra8p0\\lib\\copy.py:146\u001b[0m, in \u001b[0;36mdeepcopy\u001b[1;34m(x, memo, _nil)\u001b[0m\n\u001b[0;32m    144\u001b[0m copier \u001b[39m=\u001b[39m _deepcopy_dispatch\u001b[39m.\u001b[39mget(\u001b[39mcls\u001b[39m)\n\u001b[0;32m    145\u001b[0m \u001b[39mif\u001b[39;00m copier \u001b[39mis\u001b[39;00m \u001b[39mnot\u001b[39;00m \u001b[39mNone\u001b[39;00m:\n\u001b[1;32m--> 146\u001b[0m     y \u001b[39m=\u001b[39m copier(x, memo)\n\u001b[0;32m    147\u001b[0m \u001b[39melse\u001b[39;00m:\n\u001b[0;32m    148\u001b[0m     \u001b[39mif\u001b[39;00m \u001b[39missubclass\u001b[39m(\u001b[39mcls\u001b[39m, \u001b[39mtype\u001b[39m):\n",
      "File \u001b[1;32mC:\\Program Files\\WindowsApps\\PythonSoftwareFoundation.Python.3.10_3.10.3056.0_x64__qbz5n2kfra8p0\\lib\\copy.py:206\u001b[0m, in \u001b[0;36m_deepcopy_list\u001b[1;34m(x, memo, deepcopy)\u001b[0m\n\u001b[0;32m    204\u001b[0m append \u001b[39m=\u001b[39m y\u001b[39m.\u001b[39mappend\n\u001b[0;32m    205\u001b[0m \u001b[39mfor\u001b[39;00m a \u001b[39min\u001b[39;00m x:\n\u001b[1;32m--> 206\u001b[0m     append(deepcopy(a, memo))\n\u001b[0;32m    207\u001b[0m \u001b[39mreturn\u001b[39;00m y\n",
      "File \u001b[1;32mC:\\Program Files\\WindowsApps\\PythonSoftwareFoundation.Python.3.10_3.10.3056.0_x64__qbz5n2kfra8p0\\lib\\copy.py:128\u001b[0m, in \u001b[0;36mdeepcopy\u001b[1;34m(x, memo, _nil)\u001b[0m\n\u001b[0;32m    124\u001b[0m     d[PyStringMap] \u001b[39m=\u001b[39m PyStringMap\u001b[39m.\u001b[39mcopy\n\u001b[0;32m    126\u001b[0m \u001b[39mdel\u001b[39;00m d, t\n\u001b[1;32m--> 128\u001b[0m \u001b[39mdef\u001b[39;00m \u001b[39mdeepcopy\u001b[39m(x, memo\u001b[39m=\u001b[39m\u001b[39mNone\u001b[39;00m, _nil\u001b[39m=\u001b[39m[]):\n\u001b[0;32m    129\u001b[0m \u001b[39m    \u001b[39m\u001b[39m\"\"\"Deep copy operation on arbitrary Python objects.\u001b[39;00m\n\u001b[0;32m    130\u001b[0m \n\u001b[0;32m    131\u001b[0m \u001b[39m    See the module's __doc__ string for more info.\u001b[39;00m\n\u001b[0;32m    132\u001b[0m \u001b[39m    \"\"\"\u001b[39;00m\n\u001b[0;32m    134\u001b[0m     \u001b[39mif\u001b[39;00m memo \u001b[39mis\u001b[39;00m \u001b[39mNone\u001b[39;00m:\n",
      "\u001b[1;31mKeyboardInterrupt\u001b[0m: "
     ]
    }
   ],
   "source": [
    "maxit = 100\n",
    "teste(hillclimbing)\n",
    "teste(hillclimbing_steepest_ascent)\n",
    "teste(hillclimbing_first_choice)\n",
    "teste(hillclimbing_random_restarts)\n",
    "teste(simulated_annealing)\n"
   ]
  }
 ],
 "metadata": {
  "kernelspec": {
   "display_name": "Python 3",
   "language": "python",
   "name": "python3"
  },
  "language_info": {
   "codemirror_mode": {
    "name": "ipython",
    "version": 3
   },
   "file_extension": ".py",
   "mimetype": "text/x-python",
   "name": "python",
   "nbconvert_exporter": "python",
   "pygments_lexer": "ipython3",
   "version": "3.10.11"
  },
  "orig_nbformat": 4
 },
 "nbformat": 4,
 "nbformat_minor": 2
}
